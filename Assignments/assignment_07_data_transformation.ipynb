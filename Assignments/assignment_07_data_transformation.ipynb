{
  "cells": [
    {
      "cell_type": "markdown",
      "metadata": {
        "id": "vgGEFsf2omI3"
      },
      "source": [
        "# IS 4487 Assignment 7: Data Transformation with Airbnb Listings\n",
        "\n",
        "In this assignment, you will:\n",
        "- Load the Airbnb dataset you cleaned in Assignment 6\n",
        "- Apply data transformation techniques like scaling, binning, encoding, and feature creation\n",
        "- Make the dataset easier to use for tasks like pricing analysis, guest segmentation, or listing recommendations\n",
        "- Practice writing up your analysis clearly so a business audience — like a host, marketing manager, or city partner — could understand it\n",
        "\n",
        "## Why This Matters\n",
        "\n",
        "Airbnb analysts, hosts, and city partners rely on clean and well-structured data to make smart decisions. Whether they’re adjusting prices, identifying high-performing listings, or designing better guest experiences, they need data that’s transformed, organized, and ready for use.\n",
        "\n",
        "This assignment helps you practice that kind of real-world thinking: taking messy real data and getting it ready for action.\n",
        "\n",
        "<a href=\"https://colab.research.google.com/github/vandanara/UofUtah_IS4487/blob/main/Assignments/assignment_07_data_transformation.ipynb\" target=\"_parent\">\n",
        "  <img src=\"https://colab.research.google.com/assets/colab-badge.svg\" alt=\"Open In Colab\"/>\n",
        "</a>\n",
        "\n"
      ]
    },
    {
      "cell_type": "markdown",
      "metadata": {
        "id": "TpUh_f5Gny85"
      },
      "source": [
        "## Dataset Description\n",
        "\n",
        "The dataset you'll be using is a **detailed Airbnb listing file**, available from [Inside Airbnb](https://insideairbnb.com/get-the-data/).\n",
        "\n",
        "Each row represents one property listing. The columns include:\n",
        "\n",
        "- **Host attributes** (e.g., host ID, host name, host response time)\n",
        "- **Listing details** (e.g., price, room type, minimum nights, availability)\n",
        "- **Location data** (e.g., neighborhood, latitude/longitude)\n",
        "- **Property characteristics** (e.g., number of bedrooms, amenities, accommodates)\n",
        "- **Calendar/booking variables** (e.g., last review date, number of reviews)\n",
        "\n",
        "The schema is consistent across cities, so you can expect similar columns regardless of the location you choose."
      ]
    },
    {
      "cell_type": "markdown",
      "metadata": {
        "id": "zqwM6oP8nzJZ"
      },
      "source": [
        "## 1. Setup and Load Your Data\n",
        "\n",
        "You'll be working with the `cleaned_airbnb_data.csv` file you exported from Assignment 6.\n",
        "\n",
        "📌 In Google Colab:\n",
        "- Click the folder icon on the left sidebar\n",
        "- Use the upload button to add your CSV file to the session\n",
        "- Then use the code block below to read it into your notebook\n",
        "\n",
        "Before getting started, make sure you import the libraries you'll need for this assignment:\n",
        "- `pandas`, `numpy` for data manipulation\n",
        "- `matplotlib.pyplot`, `seaborn` for visualizations\n"
      ]
    },
    {
      "cell_type": "code",
      "execution_count": 14,
      "metadata": {
        "id": "wN5pSvLRmvsW",
        "colab": {
          "base_uri": "https://localhost:8080/"
        },
        "outputId": "56c27582-be5e-4a29-b370-2dda1d6ce765"
      },
      "outputs": [
        {
          "output_type": "stream",
          "name": "stdout",
          "text": [
            "Error: 'cleaned_airbnb_data.csv' not found. Please upload the file or check the path.\n"
          ]
        }
      ],
      "source": [
        "import pandas as pd\n",
        "import numpy as np\n",
        "import matplotlib.pyplot as plt\n",
        "import seaborn as sns\n",
        "\n",
        "# Load the cleaned data from Assignment 6\n",
        "try:\n",
        "    df = pd.read_csv('cleaned_airbnb_data.csv')\n",
        "    print(\"Data loaded successfully from 'cleaned_airbnb_data.csv'\")\n",
        "except FileNotFoundError:\n",
        "    print(\"Error: 'cleaned_airbnb_data.csv' not found. Please upload the file or check the path.\")\n",
        "    df = None # Set df to None if file not found"
      ]
    },
    {
      "cell_type": "markdown",
      "metadata": {
        "id": "E_9LKnaqqowA"
      },
      "source": [
        "## 2. Check for Skew in a Numeric Column\n",
        "\n",
        "Business framing:  \n",
        "\n",
        "Airbnb listings can have a wide range of values for things like price, availability, or reviews. These kinds of distributions can be hard to visualize, summarize, or model.\n",
        "\n",
        "Choose one **numeric column** that appears skewed and do the following:\n",
        "- Plot a histogram\n",
        "- Apply a transformation (e.g., log or other method)\n",
        "- Plot again to compare\n",
        "\n",
        "\n",
        "### In Your Response:\n",
        "1. What column did you examine?\n",
        "2. What transformation did you try, and why?\n",
        "3. How did the transformed version help make the data more usable for analysis or stakeholder review?\n",
        "\n"
      ]
    },
    {
      "cell_type": "code",
      "execution_count": 8,
      "metadata": {
        "id": "jrnGKhtWqs-O"
      },
      "outputs": [],
      "source": [
        "# Add code here 🔧"
      ]
    },
    {
      "cell_type": "markdown",
      "metadata": {
        "id": "AhlhDkPCqtlJ"
      },
      "source": [
        "### ✍️ Your Response: 🔧\n",
        "1.\n",
        "\n",
        "2.\n",
        "\n",
        "3."
      ]
    },
    {
      "cell_type": "markdown",
      "metadata": {
        "id": "suJWVn_MsG8O"
      },
      "source": [
        "## 3. Scale Two Numeric Columns\n",
        "\n",
        "Business framing:\n",
        "\n",
        "If an analyst wanted to compare listing price to number of nights required, or create a model that weighs both, those values need to be on a similar scale.\n",
        "\n",
        "Follow these steps:\n",
        "- Pick two numeric columns with different value ranges (e.g. one column may have a min of 0 and a max of 255; another column may have a min of 100 and a max of 400)\n",
        "- Use Min-Max scaling on one column (the range should be “shrinked” down to just 0-1)\n",
        "- Use Z-score Normalization (aka standardization) on the other column.\n",
        "- Add 2 new columns to the dataset. These 2 new columns should be the ones you just created.\n",
        "\n",
        "### In Your Response:\n",
        "1. What two columns did you scale, and which methods did you use?\n",
        "2. When might these scaled values be more useful than the originals?\n",
        "3. Who at Airbnb might benefit from this transformation and why?"
      ]
    },
    {
      "cell_type": "code",
      "execution_count": 9,
      "metadata": {
        "id": "bw813GgcsGZU"
      },
      "outputs": [],
      "source": [
        "from sklearn.preprocessing import MinMaxScaler, StandardScaler\n",
        "\n",
        "# Min-Max scale\n",
        "\n",
        "\n",
        "# Z-score scale\n",
        "\n"
      ]
    },
    {
      "cell_type": "markdown",
      "metadata": {
        "id": "TLcNZiFTshxf"
      },
      "source": [
        "### ✍️ Your Response: 🔧\n",
        "1.\n",
        "\n",
        "2.\n",
        "\n",
        "3."
      ]
    },
    {
      "cell_type": "markdown",
      "metadata": {
        "id": "pmE4YNuXswVv"
      },
      "source": [
        "## 4. Group a Numeric Column into Categories\n",
        "\n",
        "Business framing:  \n",
        "\n",
        "Let’s say an Airbnb marketing team wants to segment listings by review activity. They don’t want exact numbers — they just want to know if a listing has “low,” “medium,” or “high” review volume.\n",
        "\n",
        "Follow these steps:\n",
        "\n",
        "- Choose a numeric column that could be grouped (e.g., reviews, availability).\n",
        "- You’ll want to group the values of this column into 3 or 4 bins\n",
        "- Create a new column. The values of this column will be the labels: “Low”, “Medium”, and “High.” These labels should correspond to your bins.\n",
        "\n",
        "### In Your Response:\n",
        "1. What column did you group, and how many categories did you use?\n",
        "2. Why might someone prefer this grouped view over raw numbers?\n",
        "3. Who would this help at Airbnb, and how?\n"
      ]
    },
    {
      "cell_type": "code",
      "execution_count": 10,
      "metadata": {
        "id": "VvuEmQS0s4mN"
      },
      "outputs": [],
      "source": [
        "# Add code here 🔧"
      ]
    },
    {
      "cell_type": "markdown",
      "metadata": {
        "id": "I_QWkf3vs6Td"
      },
      "source": [
        "### ✍️ Your Response: 🔧\n",
        "1.\n",
        "\n",
        "2.\n",
        "\n",
        "3."
      ]
    },
    {
      "cell_type": "markdown",
      "metadata": {
        "id": "9uvs7gFmvE1C"
      },
      "source": [
        "## 5. Create Two New Business-Relevant Variables\n",
        "\n",
        "Business framing:  \n",
        "\n",
        "Stakeholders often want to know things like: What’s the cost per night? Are listings geared toward long-term stays? These kinds of features aren’t always in the dataset — analysts create them.\n",
        "\n",
        "Follow these steps:\n",
        "\n",
        "- Think of two new columns you can create using the data you already have.\n",
        "  - One might be a ratio or interaction between columns (e.g., price ÷ nights).\n",
        "  - The other might be a flag based on a condition (e.g., stays longer than 30 days).\n",
        "- Add the new columns to your DataFrame.\n",
        "\n",
        "### In Your Response:\n",
        "1. What two new columns did you create?\n",
        "2. Who would use them (e.g., host, manager, or platform)?\n",
        "3. How could they help someone make a better decision?"
      ]
    },
    {
      "cell_type": "code",
      "execution_count": 11,
      "metadata": {
        "id": "njqZvPNtvh7K"
      },
      "outputs": [],
      "source": [
        "# Add code here 🔧"
      ]
    },
    {
      "cell_type": "markdown",
      "metadata": {
        "id": "-BUYMsxYviaQ"
      },
      "source": [
        "### ✍️ Your Response: 🔧 🔧\n",
        "1.\n",
        "\n",
        "2.\n",
        "\n",
        "3.\n",
        "\n"
      ]
    },
    {
      "cell_type": "markdown",
      "metadata": {
        "id": "zM-IqX-Qvvpn"
      },
      "source": [
        "## 6. Encode a Categorical Column\n",
        "\n",
        "Business framing:  \n",
        "\n",
        "Let’s say you’re helping the Airbnb data science team build a model to predict booking rates. Categorical columns like `room_type`, `neighbourhood`, or `cancellation_policy` can’t be used in models unless they’re converted to numbers.\n",
        "\n",
        "- Choose one categorical column from your dataset (e.g., room type or neighborhood group)\n",
        "- Decide on an encoding method:\n",
        "  - Use one-hot encoding for nominal (unordered) categories\n",
        "  - Use ordinal encoding (a ranking) only if the categories have a clear order\n",
        "- Apply the encoding using `pandas` or another tool\n",
        "- Add the new encoded column(s) to your DataFrame\n",
        "\n",
        "### ✍️ In your markdown:\n",
        "1. What column did you encode and why?\n",
        "2. What encoding method did you use?\n",
        "3. How could this transformation help a pricing model, dashboard, or business report?\n",
        "\n"
      ]
    },
    {
      "cell_type": "code",
      "execution_count": 12,
      "metadata": {
        "id": "h4sCLvAIv-Xj"
      },
      "outputs": [],
      "source": [
        "# Add code here 🔧"
      ]
    },
    {
      "cell_type": "markdown",
      "metadata": {
        "id": "Vpv-zfdOv_gE"
      },
      "source": [
        "### ✍️ Your Response: 🔧\n",
        "1.\n",
        "2.\n",
        "3."
      ]
    },
    {
      "cell_type": "markdown",
      "metadata": {
        "id": "wPm5yuDPwMSA"
      },
      "source": [
        "## 7. Reflection\n",
        "\n",
        "You’ve applied the same kinds of transformation techniques used in real Airbnb analytics projects — from pricing engines to host tools to tourism dashboards.\n",
        "\n",
        "Now step back and reflect.\n",
        "\n",
        "### In Your Response:\n",
        "1. What transformation step felt most important or interesting?\n",
        "2. Which of your changes would be most useful to a host, analyst, or city planner?\n",
        "3. If you were going to build a tool or dashboard, what would you do next with this data?\n",
        "4. How does this relate to your customized learning outcome you created in canvas?\n",
        "\n"
      ]
    },
    {
      "cell_type": "markdown",
      "metadata": {
        "id": "3OnJiBFcwTBn"
      },
      "source": [
        "### ✍️ Your Response: 🔧\n",
        "\n",
        "1.\n",
        "\n",
        "2.\n",
        "\n",
        "3.\n",
        "4.\n",
        "\n"
      ]
    },
    {
      "cell_type": "markdown",
      "metadata": {
        "id": "EFCrKq1-EmyL"
      },
      "source": [
        "## Submission Instructions\n",
        "✅ Checklist:\n",
        "- All code cells run without error\n",
        "- All markdown responses are complete\n",
        "- Submit on Canvas as instructed"
      ]
    },
    {
      "cell_type": "code",
      "execution_count": 13,
      "metadata": {
        "id": "0tvBqF5oEmyL",
        "colab": {
          "base_uri": "https://localhost:8080/"
        },
        "outputId": "3c2c5329-2ef2-4c0c-bead-13a728255c28"
      },
      "outputs": [
        {
          "output_type": "stream",
          "name": "stdout",
          "text": [
            "[NbConvertApp] WARNING | pattern 'assignment_07_LastnameFirstname.ipynb' matched no files\n",
            "This application is used to convert notebook files (*.ipynb)\n",
            "        to various other formats.\n",
            "\n",
            "        WARNING: THE COMMANDLINE INTERFACE MAY CHANGE IN FUTURE RELEASES.\n",
            "\n",
            "Options\n",
            "=======\n",
            "The options below are convenience aliases to configurable class-options,\n",
            "as listed in the \"Equivalent to\" description-line of the aliases.\n",
            "To see all configurable class-options for some <cmd>, use:\n",
            "    <cmd> --help-all\n",
            "\n",
            "--debug\n",
            "    set log level to logging.DEBUG (maximize logging output)\n",
            "    Equivalent to: [--Application.log_level=10]\n",
            "--show-config\n",
            "    Show the application's configuration (human-readable format)\n",
            "    Equivalent to: [--Application.show_config=True]\n",
            "--show-config-json\n",
            "    Show the application's configuration (json format)\n",
            "    Equivalent to: [--Application.show_config_json=True]\n",
            "--generate-config\n",
            "    generate default config file\n",
            "    Equivalent to: [--JupyterApp.generate_config=True]\n",
            "-y\n",
            "    Answer yes to any questions instead of prompting.\n",
            "    Equivalent to: [--JupyterApp.answer_yes=True]\n",
            "--execute\n",
            "    Execute the notebook prior to export.\n",
            "    Equivalent to: [--ExecutePreprocessor.enabled=True]\n",
            "--allow-errors\n",
            "    Continue notebook execution even if one of the cells throws an error and include the error message in the cell output (the default behaviour is to abort conversion). This flag is only relevant if '--execute' was specified, too.\n",
            "    Equivalent to: [--ExecutePreprocessor.allow_errors=True]\n",
            "--stdin\n",
            "    read a single notebook file from stdin. Write the resulting notebook with default basename 'notebook.*'\n",
            "    Equivalent to: [--NbConvertApp.from_stdin=True]\n",
            "--stdout\n",
            "    Write notebook output to stdout instead of files.\n",
            "    Equivalent to: [--NbConvertApp.writer_class=StdoutWriter]\n",
            "--inplace\n",
            "    Run nbconvert in place, overwriting the existing notebook (only\n",
            "            relevant when converting to notebook format)\n",
            "    Equivalent to: [--NbConvertApp.use_output_suffix=False --NbConvertApp.export_format=notebook --FilesWriter.build_directory=]\n",
            "--clear-output\n",
            "    Clear output of current file and save in place,\n",
            "            overwriting the existing notebook.\n",
            "    Equivalent to: [--NbConvertApp.use_output_suffix=False --NbConvertApp.export_format=notebook --FilesWriter.build_directory= --ClearOutputPreprocessor.enabled=True]\n",
            "--coalesce-streams\n",
            "    Coalesce consecutive stdout and stderr outputs into one stream (within each cell).\n",
            "    Equivalent to: [--NbConvertApp.use_output_suffix=False --NbConvertApp.export_format=notebook --FilesWriter.build_directory= --CoalesceStreamsPreprocessor.enabled=True]\n",
            "--no-prompt\n",
            "    Exclude input and output prompts from converted document.\n",
            "    Equivalent to: [--TemplateExporter.exclude_input_prompt=True --TemplateExporter.exclude_output_prompt=True]\n",
            "--no-input\n",
            "    Exclude input cells and output prompts from converted document.\n",
            "            This mode is ideal for generating code-free reports.\n",
            "    Equivalent to: [--TemplateExporter.exclude_output_prompt=True --TemplateExporter.exclude_input=True --TemplateExporter.exclude_input_prompt=True]\n",
            "--allow-chromium-download\n",
            "    Whether to allow downloading chromium if no suitable version is found on the system.\n",
            "    Equivalent to: [--WebPDFExporter.allow_chromium_download=True]\n",
            "--disable-chromium-sandbox\n",
            "    Disable chromium security sandbox when converting to PDF..\n",
            "    Equivalent to: [--WebPDFExporter.disable_sandbox=True]\n",
            "--show-input\n",
            "    Shows code input. This flag is only useful for dejavu users.\n",
            "    Equivalent to: [--TemplateExporter.exclude_input=False]\n",
            "--embed-images\n",
            "    Embed the images as base64 dataurls in the output. This flag is only useful for the HTML/WebPDF/Slides exports.\n",
            "    Equivalent to: [--HTMLExporter.embed_images=True]\n",
            "--sanitize-html\n",
            "    Whether the HTML in Markdown cells and cell outputs should be sanitized..\n",
            "    Equivalent to: [--HTMLExporter.sanitize_html=True]\n",
            "--log-level=<Enum>\n",
            "    Set the log level by value or name.\n",
            "    Choices: any of [0, 10, 20, 30, 40, 50, 'DEBUG', 'INFO', 'WARN', 'ERROR', 'CRITICAL']\n",
            "    Default: 30\n",
            "    Equivalent to: [--Application.log_level]\n",
            "--config=<Unicode>\n",
            "    Full path of a config file.\n",
            "    Default: ''\n",
            "    Equivalent to: [--JupyterApp.config_file]\n",
            "--to=<Unicode>\n",
            "    The export format to be used, either one of the built-in formats\n",
            "            ['asciidoc', 'custom', 'html', 'latex', 'markdown', 'notebook', 'pdf', 'python', 'qtpdf', 'qtpng', 'rst', 'script', 'slides', 'webpdf']\n",
            "            or a dotted object name that represents the import path for an\n",
            "            ``Exporter`` class\n",
            "    Default: ''\n",
            "    Equivalent to: [--NbConvertApp.export_format]\n",
            "--template=<Unicode>\n",
            "    Name of the template to use\n",
            "    Default: ''\n",
            "    Equivalent to: [--TemplateExporter.template_name]\n",
            "--template-file=<Unicode>\n",
            "    Name of the template file to use\n",
            "    Default: None\n",
            "    Equivalent to: [--TemplateExporter.template_file]\n",
            "--theme=<Unicode>\n",
            "    Template specific theme(e.g. the name of a JupyterLab CSS theme distributed\n",
            "    as prebuilt extension for the lab template)\n",
            "    Default: 'light'\n",
            "    Equivalent to: [--HTMLExporter.theme]\n",
            "--sanitize_html=<Bool>\n",
            "    Whether the HTML in Markdown cells and cell outputs should be sanitized.This\n",
            "    should be set to True by nbviewer or similar tools.\n",
            "    Default: False\n",
            "    Equivalent to: [--HTMLExporter.sanitize_html]\n",
            "--writer=<DottedObjectName>\n",
            "    Writer class used to write the\n",
            "                                        results of the conversion\n",
            "    Default: 'FilesWriter'\n",
            "    Equivalent to: [--NbConvertApp.writer_class]\n",
            "--post=<DottedOrNone>\n",
            "    PostProcessor class used to write the\n",
            "                                        results of the conversion\n",
            "    Default: ''\n",
            "    Equivalent to: [--NbConvertApp.postprocessor_class]\n",
            "--output=<Unicode>\n",
            "    Overwrite base name use for output files.\n",
            "                Supports pattern replacements '{notebook_name}'.\n",
            "    Default: '{notebook_name}'\n",
            "    Equivalent to: [--NbConvertApp.output_base]\n",
            "--output-dir=<Unicode>\n",
            "    Directory to write output(s) to. Defaults\n",
            "                                  to output to the directory of each notebook. To recover\n",
            "                                  previous default behaviour (outputting to the current\n",
            "                                  working directory) use . as the flag value.\n",
            "    Default: ''\n",
            "    Equivalent to: [--FilesWriter.build_directory]\n",
            "--reveal-prefix=<Unicode>\n",
            "    The URL prefix for reveal.js (version 3.x).\n",
            "            This defaults to the reveal CDN, but can be any url pointing to a copy\n",
            "            of reveal.js.\n",
            "            For speaker notes to work, this must be a relative path to a local\n",
            "            copy of reveal.js: e.g., \"reveal.js\".\n",
            "            If a relative path is given, it must be a subdirectory of the\n",
            "            current directory (from which the server is run).\n",
            "            See the usage documentation\n",
            "            (https://nbconvert.readthedocs.io/en/latest/usage.html#reveal-js-html-slideshow)\n",
            "            for more details.\n",
            "    Default: ''\n",
            "    Equivalent to: [--SlidesExporter.reveal_url_prefix]\n",
            "--nbformat=<Enum>\n",
            "    The nbformat version to write.\n",
            "            Use this to downgrade notebooks.\n",
            "    Choices: any of [1, 2, 3, 4]\n",
            "    Default: 4\n",
            "    Equivalent to: [--NotebookExporter.nbformat_version]\n",
            "\n",
            "Examples\n",
            "--------\n",
            "\n",
            "    The simplest way to use nbconvert is\n",
            "\n",
            "            > jupyter nbconvert mynotebook.ipynb --to html\n",
            "\n",
            "            Options include ['asciidoc', 'custom', 'html', 'latex', 'markdown', 'notebook', 'pdf', 'python', 'qtpdf', 'qtpng', 'rst', 'script', 'slides', 'webpdf'].\n",
            "\n",
            "            > jupyter nbconvert --to latex mynotebook.ipynb\n",
            "\n",
            "            Both HTML and LaTeX support multiple output templates. LaTeX includes\n",
            "            'base', 'article' and 'report'.  HTML includes 'basic', 'lab' and\n",
            "            'classic'. You can specify the flavor of the format used.\n",
            "\n",
            "            > jupyter nbconvert --to html --template lab mynotebook.ipynb\n",
            "\n",
            "            You can also pipe the output to stdout, rather than a file\n",
            "\n",
            "            > jupyter nbconvert mynotebook.ipynb --stdout\n",
            "\n",
            "            PDF is generated via latex\n",
            "\n",
            "            > jupyter nbconvert mynotebook.ipynb --to pdf\n",
            "\n",
            "            You can get (and serve) a Reveal.js-powered slideshow\n",
            "\n",
            "            > jupyter nbconvert myslides.ipynb --to slides --post serve\n",
            "\n",
            "            Multiple notebooks can be given at the command line in a couple of\n",
            "            different ways:\n",
            "\n",
            "            > jupyter nbconvert notebook*.ipynb\n",
            "            > jupyter nbconvert notebook1.ipynb notebook2.ipynb\n",
            "\n",
            "            or you can specify the notebooks list in a config file, containing::\n",
            "\n",
            "                c.NbConvertApp.notebooks = [\"my_notebook.ipynb\"]\n",
            "\n",
            "            > jupyter nbconvert --config mycfg.py\n",
            "\n",
            "To see all available configurables, use `--help-all`.\n",
            "\n"
          ]
        }
      ],
      "source": [
        "!jupyter nbconvert --to html \"assignment_07_LastnameFirstname.ipynb\""
      ]
    }
  ],
  "metadata": {
    "colab": {
      "provenance": []
    },
    "kernelspec": {
      "display_name": "Python 3",
      "name": "python3"
    },
    "language_info": {
      "name": "python"
    }
  },
  "nbformat": 4,
  "nbformat_minor": 0
}